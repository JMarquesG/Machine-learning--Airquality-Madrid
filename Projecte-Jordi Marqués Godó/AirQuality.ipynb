{
 "cells": [
  {
   "cell_type": "code",
   "execution_count": 1,
   "metadata": {},
   "outputs": [],
   "source": [
    "import numpy as np\n",
    "import pandas as pd\n",
    "import datetime\n",
    "import matplotlib.pyplot as plt\n",
    "import seaborn as sns\n",
    "%matplotlib inline"
   ]
  },
  {
   "cell_type": "code",
   "execution_count": 211,
   "metadata": {},
   "outputs": [
    {
     "name": "stderr",
     "output_type": "stream",
     "text": [
      "/home/jordi/anaconda3/lib/python3.6/site-packages/ipykernel_launcher.py:6: FutureWarning: Sorting because non-concatenation axis is not aligned. A future version\n",
      "of pandas will change to not sort by default.\n",
      "\n",
      "To accept the future behavior, pass 'sort=True'.\n",
      "\n",
      "To retain the current behavior and silence the warning, pass sort=False\n",
      "\n",
      "  \n"
     ]
    },
    {
     "name": "stdout",
     "output_type": "stream",
     "text": [
      "<class 'pandas.core.frame.DataFrame'>\n",
      "DatetimeIndex: 3319512 entries, 2001-08-01 01:00:00 to 2015-08-01 00:00:00\n",
      "Data columns (total 17 columns):\n",
      "BEN        float64\n",
      "CO         float64\n",
      "EBE        float64\n",
      "MXY        float64\n",
      "NMHC       float64\n",
      "NO         float64\n",
      "NO_2       float64\n",
      "NOx        float64\n",
      "OXY        float64\n",
      "O_3        float64\n",
      "PM10       float64\n",
      "PM25       float64\n",
      "PXY        float64\n",
      "SO_2       float64\n",
      "TCH        float64\n",
      "TOL        float64\n",
      "station    int64\n",
      "dtypes: float64(16), int64(1)\n",
      "memory usage: 455.9 MB\n"
     ]
    }
   ],
   "source": [
    "airdata = pd.DataFrame()\n",
    "airdata.index = pd.to_datetime(airdata.index)\n",
    "for i in range(1,16): \n",
    "    result = pd.read_csv('madrid_20{0}{1}.csv'.format(int(i/10),i%10),index_col='date')\n",
    "    result.index = pd.to_datetime(result.index)\n",
    "    airdata = pd.concat([airdata,result])\n",
    "airdata.info()"
   ]
  },
  {
   "cell_type": "code",
   "execution_count": 212,
   "metadata": {},
   "outputs": [
    {
     "data": {
      "text/html": [
       "<div>\n",
       "<style scoped>\n",
       "    .dataframe tbody tr th:only-of-type {\n",
       "        vertical-align: middle;\n",
       "    }\n",
       "\n",
       "    .dataframe tbody tr th {\n",
       "        vertical-align: top;\n",
       "    }\n",
       "\n",
       "    .dataframe thead th {\n",
       "        text-align: right;\n",
       "    }\n",
       "</style>\n",
       "<table border=\"1\" class=\"dataframe\">\n",
       "  <thead>\n",
       "    <tr style=\"text-align: right;\">\n",
       "      <th></th>\n",
       "      <th>BEN</th>\n",
       "      <th>CO</th>\n",
       "      <th>EBE</th>\n",
       "      <th>MXY</th>\n",
       "      <th>NMHC</th>\n",
       "      <th>NO</th>\n",
       "      <th>NO_2</th>\n",
       "      <th>NOx</th>\n",
       "      <th>OXY</th>\n",
       "      <th>O_3</th>\n",
       "      <th>PM10</th>\n",
       "      <th>PM25</th>\n",
       "      <th>PXY</th>\n",
       "      <th>SO_2</th>\n",
       "      <th>TCH</th>\n",
       "      <th>TOL</th>\n",
       "      <th>station</th>\n",
       "    </tr>\n",
       "  </thead>\n",
       "  <tbody>\n",
       "    <tr>\n",
       "      <th>count</th>\n",
       "      <td>923778.000000</td>\n",
       "      <td>2.449414e+06</td>\n",
       "      <td>884467.000000</td>\n",
       "      <td>315415.000000</td>\n",
       "      <td>1.025430e+06</td>\n",
       "      <td>1.045892e+06</td>\n",
       "      <td>3.300545e+06</td>\n",
       "      <td>2.254631e+06</td>\n",
       "      <td>315695.000000</td>\n",
       "      <td>2.709088e+06</td>\n",
       "      <td>2.617311e+06</td>\n",
       "      <td>693324.000000</td>\n",
       "      <td>315584.000000</td>\n",
       "      <td>2.574548e+06</td>\n",
       "      <td>1.026559e+06</td>\n",
       "      <td>921200.000000</td>\n",
       "      <td>3.319512e+06</td>\n",
       "    </tr>\n",
       "    <tr>\n",
       "      <th>mean</th>\n",
       "      <td>1.340611</td>\n",
       "      <td>5.662748e-01</td>\n",
       "      <td>1.545206</td>\n",
       "      <td>4.650394</td>\n",
       "      <td>1.914670e-01</td>\n",
       "      <td>2.395349e+01</td>\n",
       "      <td>5.203448e+01</td>\n",
       "      <td>1.101715e+02</td>\n",
       "      <td>2.280912</td>\n",
       "      <td>3.895714e+01</td>\n",
       "      <td>2.989640e+01</td>\n",
       "      <td>14.439076</td>\n",
       "      <td>2.056178</td>\n",
       "      <td>1.094115e+01</td>\n",
       "      <td>1.439204e+00</td>\n",
       "      <td>6.315227</td>\n",
       "      <td>2.807903e+07</td>\n",
       "    </tr>\n",
       "    <tr>\n",
       "      <th>std</th>\n",
       "      <td>1.994826</td>\n",
       "      <td>5.496479e-01</td>\n",
       "      <td>2.236028</td>\n",
       "      <td>5.599223</td>\n",
       "      <td>1.554719e-01</td>\n",
       "      <td>5.143612e+01</td>\n",
       "      <td>3.484505e+01</td>\n",
       "      <td>1.096200e+02</td>\n",
       "      <td>2.639609</td>\n",
       "      <td>2.991074e+01</td>\n",
       "      <td>2.638668e+01</td>\n",
       "      <td>11.591802</td>\n",
       "      <td>2.395130</td>\n",
       "      <td>9.291107e+00</td>\n",
       "      <td>2.313412e-01</td>\n",
       "      <td>8.865154</td>\n",
       "      <td>2.035405e+01</td>\n",
       "    </tr>\n",
       "    <tr>\n",
       "      <th>min</th>\n",
       "      <td>0.000000</td>\n",
       "      <td>0.000000e+00</td>\n",
       "      <td>0.000000</td>\n",
       "      <td>0.000000</td>\n",
       "      <td>0.000000e+00</td>\n",
       "      <td>0.000000e+00</td>\n",
       "      <td>0.000000e+00</td>\n",
       "      <td>0.000000e+00</td>\n",
       "      <td>0.000000</td>\n",
       "      <td>0.000000e+00</td>\n",
       "      <td>0.000000e+00</td>\n",
       "      <td>-31.000000</td>\n",
       "      <td>0.000000</td>\n",
       "      <td>0.000000e+00</td>\n",
       "      <td>0.000000e+00</td>\n",
       "      <td>0.000000</td>\n",
       "      <td>2.807900e+07</td>\n",
       "    </tr>\n",
       "    <tr>\n",
       "      <th>25%</th>\n",
       "      <td>0.240000</td>\n",
       "      <td>2.700000e-01</td>\n",
       "      <td>0.480000</td>\n",
       "      <td>1.200000</td>\n",
       "      <td>1.000000e-01</td>\n",
       "      <td>2.000000e+00</td>\n",
       "      <td>2.528000e+01</td>\n",
       "      <td>4.102000e+01</td>\n",
       "      <td>0.960000</td>\n",
       "      <td>1.234000e+01</td>\n",
       "      <td>1.200000e+01</td>\n",
       "      <td>7.000000</td>\n",
       "      <td>0.800000</td>\n",
       "      <td>6.000000e+00</td>\n",
       "      <td>1.310000e+00</td>\n",
       "      <td>1.300000</td>\n",
       "      <td>2.807901e+07</td>\n",
       "    </tr>\n",
       "    <tr>\n",
       "      <th>50%</th>\n",
       "      <td>0.680000</td>\n",
       "      <td>4.000000e-01</td>\n",
       "      <td>1.000000</td>\n",
       "      <td>2.800000</td>\n",
       "      <td>1.600000e-01</td>\n",
       "      <td>6.000000e+00</td>\n",
       "      <td>4.600000e+01</td>\n",
       "      <td>7.740000e+01</td>\n",
       "      <td>1.320000</td>\n",
       "      <td>3.366000e+01</td>\n",
       "      <td>2.230000e+01</td>\n",
       "      <td>11.560000</td>\n",
       "      <td>1.280000</td>\n",
       "      <td>8.340000e+00</td>\n",
       "      <td>1.390000e+00</td>\n",
       "      <td>3.520000</td>\n",
       "      <td>2.807902e+07</td>\n",
       "    </tr>\n",
       "    <tr>\n",
       "      <th>75%</th>\n",
       "      <td>1.610000</td>\n",
       "      <td>6.700000e-01</td>\n",
       "      <td>1.750000</td>\n",
       "      <td>5.890000</td>\n",
       "      <td>2.400000e-01</td>\n",
       "      <td>2.100000e+01</td>\n",
       "      <td>7.127000e+01</td>\n",
       "      <td>1.409000e+02</td>\n",
       "      <td>2.740000</td>\n",
       "      <td>5.838000e+01</td>\n",
       "      <td>3.900000e+01</td>\n",
       "      <td>18.440001</td>\n",
       "      <td>2.510000</td>\n",
       "      <td>1.256000e+01</td>\n",
       "      <td>1.510000e+00</td>\n",
       "      <td>7.580000</td>\n",
       "      <td>2.807904e+07</td>\n",
       "    </tr>\n",
       "    <tr>\n",
       "      <th>max</th>\n",
       "      <td>66.389999</td>\n",
       "      <td>1.804000e+01</td>\n",
       "      <td>162.199997</td>\n",
       "      <td>177.600006</td>\n",
       "      <td>6.860000e+00</td>\n",
       "      <td>1.146000e+03</td>\n",
       "      <td>6.286000e+02</td>\n",
       "      <td>2.537000e+03</td>\n",
       "      <td>103.000000</td>\n",
       "      <td>2.360000e+02</td>\n",
       "      <td>6.950000e+02</td>\n",
       "      <td>506.899994</td>\n",
       "      <td>106.000000</td>\n",
       "      <td>1.991000e+02</td>\n",
       "      <td>8.560000e+00</td>\n",
       "      <td>242.899994</td>\n",
       "      <td>2.807910e+07</td>\n",
       "    </tr>\n",
       "  </tbody>\n",
       "</table>\n",
       "</div>"
      ],
      "text/plain": [
       "                 BEN            CO            EBE            MXY  \\\n",
       "count  923778.000000  2.449414e+06  884467.000000  315415.000000   \n",
       "mean        1.340611  5.662748e-01       1.545206       4.650394   \n",
       "std         1.994826  5.496479e-01       2.236028       5.599223   \n",
       "min         0.000000  0.000000e+00       0.000000       0.000000   \n",
       "25%         0.240000  2.700000e-01       0.480000       1.200000   \n",
       "50%         0.680000  4.000000e-01       1.000000       2.800000   \n",
       "75%         1.610000  6.700000e-01       1.750000       5.890000   \n",
       "max        66.389999  1.804000e+01     162.199997     177.600006   \n",
       "\n",
       "               NMHC            NO          NO_2           NOx            OXY  \\\n",
       "count  1.025430e+06  1.045892e+06  3.300545e+06  2.254631e+06  315695.000000   \n",
       "mean   1.914670e-01  2.395349e+01  5.203448e+01  1.101715e+02       2.280912   \n",
       "std    1.554719e-01  5.143612e+01  3.484505e+01  1.096200e+02       2.639609   \n",
       "min    0.000000e+00  0.000000e+00  0.000000e+00  0.000000e+00       0.000000   \n",
       "25%    1.000000e-01  2.000000e+00  2.528000e+01  4.102000e+01       0.960000   \n",
       "50%    1.600000e-01  6.000000e+00  4.600000e+01  7.740000e+01       1.320000   \n",
       "75%    2.400000e-01  2.100000e+01  7.127000e+01  1.409000e+02       2.740000   \n",
       "max    6.860000e+00  1.146000e+03  6.286000e+02  2.537000e+03     103.000000   \n",
       "\n",
       "                O_3          PM10           PM25            PXY          SO_2  \\\n",
       "count  2.709088e+06  2.617311e+06  693324.000000  315584.000000  2.574548e+06   \n",
       "mean   3.895714e+01  2.989640e+01      14.439076       2.056178  1.094115e+01   \n",
       "std    2.991074e+01  2.638668e+01      11.591802       2.395130  9.291107e+00   \n",
       "min    0.000000e+00  0.000000e+00     -31.000000       0.000000  0.000000e+00   \n",
       "25%    1.234000e+01  1.200000e+01       7.000000       0.800000  6.000000e+00   \n",
       "50%    3.366000e+01  2.230000e+01      11.560000       1.280000  8.340000e+00   \n",
       "75%    5.838000e+01  3.900000e+01      18.440001       2.510000  1.256000e+01   \n",
       "max    2.360000e+02  6.950000e+02     506.899994     106.000000  1.991000e+02   \n",
       "\n",
       "                TCH            TOL       station  \n",
       "count  1.026559e+06  921200.000000  3.319512e+06  \n",
       "mean   1.439204e+00       6.315227  2.807903e+07  \n",
       "std    2.313412e-01       8.865154  2.035405e+01  \n",
       "min    0.000000e+00       0.000000  2.807900e+07  \n",
       "25%    1.310000e+00       1.300000  2.807901e+07  \n",
       "50%    1.390000e+00       3.520000  2.807902e+07  \n",
       "75%    1.510000e+00       7.580000  2.807904e+07  \n",
       "max    8.560000e+00     242.899994  2.807910e+07  "
      ]
     },
     "execution_count": 212,
     "metadata": {},
     "output_type": "execute_result"
    }
   ],
   "source": [
    "airdata.describe()"
   ]
  },
  {
   "cell_type": "code",
   "execution_count": 213,
   "metadata": {},
   "outputs": [
    {
     "name": "stdout",
     "output_type": "stream",
     "text": [
      "<class 'pandas.core.frame.DataFrame'>\n",
      "DatetimeIndex: 3319512 entries, 2001-08-01 01:00:00 to 2015-08-01 00:00:00\n",
      "Data columns (total 5 columns):\n",
      "CO      float64\n",
      "NO_2    float64\n",
      "O_3     float64\n",
      "PM10    float64\n",
      "SO_2    float64\n",
      "dtypes: float64(5)\n",
      "memory usage: 152.0 MB\n"
     ]
    }
   ],
   "source": [
    "airdata = airdata.drop('BEN',1)\n",
    "airdata = airdata.drop('EBE',1)\n",
    "airdata = airdata.drop('MXY',1)\n",
    "airdata = airdata.drop('NMHC',1)\n",
    "airdata = airdata.drop('NO',1)\n",
    "airdata = airdata.drop('NOx',1)\n",
    "airdata = airdata.drop('OXY',1)\n",
    "airdata = airdata.drop('PXY',1)\n",
    "airdata = airdata.drop('TCH',1)\n",
    "airdata = airdata.drop('TOL',1)\n",
    "airdata = airdata.drop('PM25',1)\n",
    "airdata = airdata.drop('station',1)\n",
    "airdata.info()"
   ]
  },
  {
   "cell_type": "code",
   "execution_count": null,
   "metadata": {},
   "outputs": [],
   "source": []
  },
  {
   "cell_type": "code",
   "execution_count": 214,
   "metadata": {},
   "outputs": [
    {
     "name": "stdout",
     "output_type": "stream",
     "text": [
      "<class 'pandas.core.frame.DataFrame'>\n",
      "DatetimeIndex: 5479 entries, 2001-01-01 to 2016-01-01\n",
      "Freq: D\n",
      "Data columns (total 5 columns):\n",
      "CO      5479 non-null float64\n",
      "NO_2    5479 non-null float64\n",
      "O_3     5479 non-null float64\n",
      "PM10    5479 non-null float64\n",
      "SO_2    5479 non-null float64\n",
      "dtypes: float64(5)\n",
      "memory usage: 256.8 KB\n"
     ]
    },
    {
     "name": "stderr",
     "output_type": "stream",
     "text": [
      "/home/jordi/anaconda3/lib/python3.6/site-packages/ipykernel_launcher.py:1: FutureWarning: how in .resample() is deprecated\n",
      "the new syntax is .resample(...).mean()\n",
      "  \"\"\"Entry point for launching an IPython kernel.\n"
     ]
    }
   ],
   "source": [
    "airdata = airdata.resample('D',how='mean')\n",
    "airdata.info()"
   ]
  },
  {
   "cell_type": "code",
   "execution_count": 215,
   "metadata": {},
   "outputs": [
    {
     "data": {
      "text/html": [
       "<div>\n",
       "<style scoped>\n",
       "    .dataframe tbody tr th:only-of-type {\n",
       "        vertical-align: middle;\n",
       "    }\n",
       "\n",
       "    .dataframe tbody tr th {\n",
       "        vertical-align: top;\n",
       "    }\n",
       "\n",
       "    .dataframe thead th {\n",
       "        text-align: right;\n",
       "    }\n",
       "</style>\n",
       "<table border=\"1\" class=\"dataframe\">\n",
       "  <thead>\n",
       "    <tr style=\"text-align: right;\">\n",
       "      <th></th>\n",
       "      <th>CO</th>\n",
       "      <th>NO_2</th>\n",
       "      <th>O_3</th>\n",
       "      <th>PM10</th>\n",
       "      <th>SO_2</th>\n",
       "    </tr>\n",
       "    <tr>\n",
       "      <th>date</th>\n",
       "      <th></th>\n",
       "      <th></th>\n",
       "      <th></th>\n",
       "      <th></th>\n",
       "      <th></th>\n",
       "    </tr>\n",
       "  </thead>\n",
       "  <tbody>\n",
       "    <tr>\n",
       "      <th>2001-01-01</th>\n",
       "      <td>0.998400</td>\n",
       "      <td>47.760278</td>\n",
       "      <td>22.275357</td>\n",
       "      <td>19.367887</td>\n",
       "      <td>18.896400</td>\n",
       "    </tr>\n",
       "    <tr>\n",
       "      <th>2001-01-02</th>\n",
       "      <td>0.713709</td>\n",
       "      <td>45.141650</td>\n",
       "      <td>36.652239</td>\n",
       "      <td>17.426450</td>\n",
       "      <td>16.859624</td>\n",
       "    </tr>\n",
       "    <tr>\n",
       "      <th>2001-01-03</th>\n",
       "      <td>0.871186</td>\n",
       "      <td>53.401426</td>\n",
       "      <td>23.558798</td>\n",
       "      <td>24.811873</td>\n",
       "      <td>18.297260</td>\n",
       "    </tr>\n",
       "    <tr>\n",
       "      <th>2001-01-04</th>\n",
       "      <td>0.848846</td>\n",
       "      <td>50.055048</td>\n",
       "      <td>25.265474</td>\n",
       "      <td>25.086376</td>\n",
       "      <td>17.920690</td>\n",
       "    </tr>\n",
       "    <tr>\n",
       "      <th>2001-01-05</th>\n",
       "      <td>1.197067</td>\n",
       "      <td>51.629295</td>\n",
       "      <td>11.781987</td>\n",
       "      <td>26.796617</td>\n",
       "      <td>18.446490</td>\n",
       "    </tr>\n",
       "  </tbody>\n",
       "</table>\n",
       "</div>"
      ],
      "text/plain": [
       "                  CO       NO_2        O_3       PM10       SO_2\n",
       "date                                                            \n",
       "2001-01-01  0.998400  47.760278  22.275357  19.367887  18.896400\n",
       "2001-01-02  0.713709  45.141650  36.652239  17.426450  16.859624\n",
       "2001-01-03  0.871186  53.401426  23.558798  24.811873  18.297260\n",
       "2001-01-04  0.848846  50.055048  25.265474  25.086376  17.920690\n",
       "2001-01-05  1.197067  51.629295  11.781987  26.796617  18.446490"
      ]
     },
     "execution_count": 215,
     "metadata": {},
     "output_type": "execute_result"
    }
   ],
   "source": [
    "airdata.head()"
   ]
  },
  {
   "cell_type": "code",
   "execution_count": 216,
   "metadata": {},
   "outputs": [
    {
     "data": {
      "text/plain": [
       "<matplotlib.axes._subplots.AxesSubplot at 0x7f02a4c98438>"
      ]
     },
     "execution_count": 216,
     "metadata": {},
     "output_type": "execute_result"
    },
    {
     "data": {
      "image/png": "[encoded data removed]",
      "text/plain": [
       "<Figure size 432x288 with 2 Axes>"
      ]
     },
     "metadata": {},
     "output_type": "display_data"
    }
   ],
   "source": [
    "sns.heatmap(airdata.corr(),cmap='coolwarm',annot=True)"
   ]
  },
  {
   "cell_type": "code",
   "execution_count": 217,
   "metadata": {},
   "outputs": [
    {
     "data": {
      "text/plain": [
       "<matplotlib.axes._subplots.AxesSubplot at 0x7f02a4ce0358>"
      ]
     },
     "execution_count": 217,
     "metadata": {},
     "output_type": "execute_result"
    },
    {
     "data": {
      "image/png": "[encoded data removed]",
      "text/plain": [
       "<Figure size 432x288 with 1 Axes>"
      ]
     },
     "metadata": {},
     "output_type": "display_data"
    }
   ],
   "source": [
    "sns.heatmap(airdata.isnull(),yticklabels=False,cbar=False,cmap='viridis')"
   ]
  },
  {
   "cell_type": "code",
   "execution_count": null,
   "metadata": {},
   "outputs": [],
   "source": []
  },
  {
   "cell_type": "code",
   "execution_count": 218,
   "metadata": {},
   "outputs": [],
   "source": [
    "airdatam = [pd.DataFrame,pd.DataFrame,pd.DataFrame,pd.DataFrame,pd.DataFrame]"
   ]
  },
  {
   "cell_type": "code",
   "execution_count": 219,
   "metadata": {},
   "outputs": [
    {
     "name": "stdout",
     "output_type": "stream",
     "text": [
      "<class 'pandas.core.frame.DataFrame'>\n",
      "DatetimeIndex: 5479 entries, 2001-01-01 to 2016-01-01\n",
      "Freq: D\n",
      "Data columns (total 1 columns):\n",
      "CO    5479 non-null float64\n",
      "dtypes: float64(1)\n",
      "memory usage: 85.6 KB\n"
     ]
    }
   ],
   "source": [
    "airdatam[0] = airdata.drop(['NO_2','O_3','PM10','SO_2'], axis = 1)\n",
    "airdatam[0].info()"
   ]
  },
  {
   "cell_type": "code",
   "execution_count": 220,
   "metadata": {},
   "outputs": [
    {
     "name": "stdout",
     "output_type": "stream",
     "text": [
      "<class 'pandas.core.frame.DataFrame'>\n",
      "DatetimeIndex: 5479 entries, 2001-01-01 to 2016-01-01\n",
      "Freq: D\n",
      "Data columns (total 1 columns):\n",
      "NO_2    5479 non-null float64\n",
      "dtypes: float64(1)\n",
      "memory usage: 85.6 KB\n"
     ]
    }
   ],
   "source": [
    "airdatam[1] = airdata.drop(['CO','O_3','PM10','SO_2'], axis = 1)\n",
    "airdatam[1].info()"
   ]
  },
  {
   "cell_type": "code",
   "execution_count": 221,
   "metadata": {},
   "outputs": [
    {
     "name": "stdout",
     "output_type": "stream",
     "text": [
      "<class 'pandas.core.frame.DataFrame'>\n",
      "DatetimeIndex: 5479 entries, 2001-01-01 to 2016-01-01\n",
      "Freq: D\n",
      "Data columns (total 1 columns):\n",
      "O_3    5479 non-null float64\n",
      "dtypes: float64(1)\n",
      "memory usage: 85.6 KB\n"
     ]
    }
   ],
   "source": [
    "airdatam[2] = airdata.drop(['NO_2','CO','PM10','SO_2'], axis = 1)\n",
    "airdatam[2].info()"
   ]
  },
  {
   "cell_type": "code",
   "execution_count": 222,
   "metadata": {},
   "outputs": [
    {
     "name": "stdout",
     "output_type": "stream",
     "text": [
      "<class 'pandas.core.frame.DataFrame'>\n",
      "DatetimeIndex: 5479 entries, 2001-01-01 to 2016-01-01\n",
      "Freq: D\n",
      "Data columns (total 1 columns):\n",
      "PM10    5479 non-null float64\n",
      "dtypes: float64(1)\n",
      "memory usage: 85.6 KB\n"
     ]
    }
   ],
   "source": [
    "airdatam[3] = airdata.drop(['NO_2','O_3','CO','SO_2'], axis = 1)\n",
    "airdatam[3].info()"
   ]
  },
  {
   "cell_type": "code",
   "execution_count": 223,
   "metadata": {},
   "outputs": [
    {
     "name": "stdout",
     "output_type": "stream",
     "text": [
      "<class 'pandas.core.frame.DataFrame'>\n",
      "DatetimeIndex: 5479 entries, 2001-01-01 to 2016-01-01\n",
      "Freq: D\n",
      "Data columns (total 1 columns):\n",
      "SO_2    5479 non-null float64\n",
      "dtypes: float64(1)\n",
      "memory usage: 85.6 KB\n"
     ]
    }
   ],
   "source": [
    "airdatam[4] = airdata.drop(['NO_2','O_3','PM10','CO'], axis = 1)\n",
    "airdatam[4].info()"
   ]
  },
  {
   "cell_type": "code",
   "execution_count": 224,
   "metadata": {},
   "outputs": [],
   "source": [
    "weather = pd.read_csv('weather_modificat.csv',index_col= 'date')"
   ]
  },
  {
   "cell_type": "code",
   "execution_count": 225,
   "metadata": {},
   "outputs": [],
   "source": [
    "weather.index = pd.to_datetime(weather.index)"
   ]
  },
  {
   "cell_type": "code",
   "execution_count": 226,
   "metadata": {},
   "outputs": [
    {
     "name": "stdout",
     "output_type": "stream",
     "text": [
      "<class 'pandas.core.frame.DataFrame'>\n",
      "DatetimeIndex: 5448 entries, 2001-01-01 to 2015-12-31\n",
      "Data columns (total 14 columns):\n",
      "Max TemperatureC              5448 non-null float64\n",
      "Mean TemperatureC             5448 non-null float64\n",
      "Min TemperatureC              5448 non-null float64\n",
      "Dew PointC                    5448 non-null float64\n",
      "MeanDew PointC                5448 non-null float64\n",
      "Min DewpointC                 5448 non-null float64\n",
      "Max Humidity                  5448 non-null float64\n",
      "Mean Humidity                 5448 non-null float64\n",
      "Min Humidity                  5448 non-null float64\n",
      "Max Sea Level PressurehPa     5448 non-null int64\n",
      "Mean Sea Level PressurehPa    5448 non-null int64\n",
      "Min Sea Level PressurehPa     5448 non-null int64\n",
      "Max Wind SpeedKm/h            5448 non-null int64\n",
      "Mean Wind SpeedKm/h           5448 non-null int64\n",
      "dtypes: float64(9), int64(5)\n",
      "memory usage: 638.4 KB\n"
     ]
    }
   ],
   "source": [
    "weather.info()"
   ]
  },
  {
   "cell_type": "code",
   "execution_count": 227,
   "metadata": {},
   "outputs": [],
   "source": [
    "for i in range(5):\n",
    "    airdatam[i] = airdatam[i].join(weather)\n",
    "    airdatam[i].dropna(inplace = True)"
   ]
  },
  {
   "cell_type": "code",
   "execution_count": 228,
   "metadata": {},
   "outputs": [
    {
     "name": "stdout",
     "output_type": "stream",
     "text": [
      "<class 'pandas.core.frame.DataFrame'>\n",
      "DatetimeIndex: 5448 entries, 2001-01-01 to 2015-12-31\n",
      "Data columns (total 15 columns):\n",
      "CO                            5448 non-null float64\n",
      "Max TemperatureC              5448 non-null float64\n",
      "Mean TemperatureC             5448 non-null float64\n",
      "Min TemperatureC              5448 non-null float64\n",
      "Dew PointC                    5448 non-null float64\n",
      "MeanDew PointC                5448 non-null float64\n",
      "Min DewpointC                 5448 non-null float64\n",
      "Max Humidity                  5448 non-null float64\n",
      "Mean Humidity                 5448 non-null float64\n",
      "Min Humidity                  5448 non-null float64\n",
      "Max Sea Level PressurehPa     5448 non-null float64\n",
      "Mean Sea Level PressurehPa    5448 non-null float64\n",
      "Min Sea Level PressurehPa     5448 non-null float64\n",
      "Max Wind SpeedKm/h            5448 non-null float64\n",
      "Mean Wind SpeedKm/h           5448 non-null float64\n",
      "dtypes: float64(15)\n",
      "memory usage: 681.0 KB\n"
     ]
    }
   ],
   "source": [
    "airdatam[0].info()"
   ]
  },
  {
   "cell_type": "code",
   "execution_count": 229,
   "metadata": {},
   "outputs": [
    {
     "data": {
      "text/plain": [
       "<matplotlib.axes._subplots.AxesSubplot at 0x7f02a4bb7d68>"
      ]
     },
     "execution_count": 229,
     "metadata": {},
     "output_type": "execute_result"
    },
    {
     "data": {
      "image/png": "[encoded data removed]",
      "text/plain": [
       "<Figure size 432x288 with 1 Axes>"
      ]
     },
     "metadata": {},
     "output_type": "display_data"
    }
   ],
   "source": [
    "sns.heatmap(airdatam[0].isnull(),yticklabels=False,cbar=False,cmap='viridis')"
   ]
  },
  {
   "cell_type": "code",
   "execution_count": 242,
   "metadata": {},
   "outputs": [
    {
     "data": {
      "text/plain": [
       "<matplotlib.axes._subplots.AxesSubplot at 0x7f02a4870e80>"
      ]
     },
     "execution_count": 242,
     "metadata": {},
     "output_type": "execute_result"
    },
    {
     "data": {
      "image/png": "[encoded data removed]",
      "text/plain": [
       "<Figure size 432x288 with 2 Axes>"
      ]
     },
     "metadata": {},
     "output_type": "display_data"
    }
   ],
   "source": [
    "sns.heatmap(airdatam[4].corr(), cmap=\"PiYG\")"
   ]
  },
  {
   "cell_type": "code",
   "execution_count": 231,
   "metadata": {},
   "outputs": [],
   "source": [
    "gas = ['CO','NO_2','O_3','PM10','SO_2']"
   ]
  },
  {
   "cell_type": "code",
   "execution_count": 98,
   "metadata": {},
   "outputs": [],
   "source": [
    "###################################################################################"
   ]
  },
  {
   "cell_type": "code",
   "execution_count": 232,
   "metadata": {},
   "outputs": [],
   "source": [
    "from sklearn.model_selection import train_test_split"
   ]
  },
  {
   "cell_type": "code",
   "execution_count": 233,
   "metadata": {},
   "outputs": [],
   "source": [
    "data = []\n",
    "for i in range(5):\n",
    "    X_train, X_test, y_train, y_test = train_test_split(airdatam[i].drop( gas[i] ,axis=1), airdatam[i], test_size=0.3, random_state=101)\n",
    "    data.append([X_train,X_test,y_train,y_test])"
   ]
  },
  {
   "cell_type": "code",
   "execution_count": 234,
   "metadata": {},
   "outputs": [],
   "source": [
    "from sklearn.linear_model import LinearRegression"
   ]
  },
  {
   "cell_type": "code",
   "execution_count": 235,
   "metadata": {},
   "outputs": [],
   "source": [
    "linearmodel = []\n",
    "prediction = []\n",
    "for i in range(5):\n",
    "    linearmodel.append(LinearRegression())\n",
    "    linearmodel[i].fit(data[i][0],data[i][2])\n",
    "    prediction.append(linearmodel[i].predict(data[i][1]))"
   ]
  },
  {
   "cell_type": "code",
   "execution_count": 129,
   "metadata": {},
   "outputs": [],
   "source": [
    "from sklearn.metrics import mean_squared_error, r2_score"
   ]
  },
  {
   "cell_type": "code",
   "execution_count": 236,
   "metadata": {},
   "outputs": [
    {
     "name": "stdout",
     "output_type": "stream",
     "text": [
      "Coefficients: \n",
      " [[ 3.20904869e-02 -7.72761247e-03 -9.64864439e-03  8.83631641e-03\n",
      "  -3.66859956e-02 -2.89320381e-03 -2.24330013e-03  1.09487347e-02\n",
      "   4.59065941e-03 -5.44513182e-03 -9.86870756e-04  1.29132278e-02\n",
      "  -1.24343814e-03 -6.11847027e-03]\n",
      " [ 1.00000000e+00 -6.67162631e-16  5.93814828e-17 -5.62576693e-17\n",
      "   2.24420841e-16  8.04244639e-17  1.81107828e-16 -5.72802408e-17\n",
      "   2.55749144e-16 -5.72823506e-17 -1.44860510e-16 -5.87578373e-17\n",
      "  -2.09802286e-16  3.15125082e-16]\n",
      " [ 1.60280614e-15  1.00000000e+00 -5.50050367e-16  2.01955866e-16\n",
      "  -1.54373139e-16  5.15354324e-16  1.77188757e-16  5.83177992e-16\n",
      "   2.85415523e-16  5.02170390e-17 -1.71182085e-16  1.12597070e-16\n",
      "  -1.95589358e-16  1.60520468e-16]\n",
      " [ 7.56133533e-16 -1.73336405e-15  1.00000000e+00 -1.42385825e-16\n",
      "   1.39053890e-15 -5.81693698e-16  4.45914346e-16  5.69716410e-16\n",
      "   4.74295913e-16 -4.51203344e-16  5.73864928e-17 -6.29808447e-18\n",
      "   3.40417786e-18  2.64835237e-16]\n",
      " [ 2.50137114e-16 -1.59766091e-16 -9.47866905e-17  1.00000000e+00\n",
      "   9.07425037e-16  1.42567350e-16  1.95355069e-16  4.82656029e-16\n",
      "   2.56618854e-16  1.78913004e-16 -2.55916710e-16 -1.66687475e-16\n",
      "   6.37550655e-17 -3.38598641e-16]\n",
      " [-6.36111883e-16  1.97930900e-15 -9.67431094e-16  2.19824491e-16\n",
      "   1.00000000e+00  8.60604658e-17  3.74879724e-16  3.28880874e-16\n",
      "   4.51150074e-16 -1.84499814e-16 -2.20365419e-17 -1.34021008e-16\n",
      "   2.60157237e-16 -3.18079347e-16]\n",
      " [ 6.49696485e-16 -1.22874930e-15  7.88847814e-16  3.60363853e-16\n",
      "  -4.71829359e-16  1.00000000e+00  3.23835586e-16  2.97091162e-16\n",
      "   3.05779958e-16  2.21086771e-17 -3.74031225e-17 -9.54246070e-18\n",
      "   2.85161727e-16  2.76287770e-17]\n",
      " [ 7.61970752e-16 -3.53960251e-16  1.11464561e-15 -4.11100280e-16\n",
      "   3.22783966e-16 -5.40001191e-16  1.00000000e+00 -2.78575507e-16\n",
      "  -5.11344996e-16  3.46944580e-16  2.14145821e-16 -1.10918713e-16\n",
      "   3.73642560e-17  3.58890828e-16]\n",
      " [-8.60350638e-16  2.35185389e-16  1.00602921e-15 -6.37234989e-16\n",
      "   5.68294158e-16  2.47419966e-16 -3.56705933e-17  1.00000000e+00\n",
      "  -1.90933896e-16 -1.11300617e-16 -1.25471314e-16  1.32745207e-16\n",
      "  -4.02928669e-17 -1.27222489e-16]\n",
      " [-6.84901617e-16  2.18475145e-15 -1.51296779e-15  8.00015807e-16\n",
      "   2.53503633e-16 -6.26517593e-16  2.32170469e-16  8.08450326e-18\n",
      "   1.00000000e+00 -1.83817052e-16  1.05769393e-16 -2.22467157e-16\n",
      "   5.17105669e-17  1.06727310e-16]\n",
      " [-3.01857217e-16  1.56612058e-15 -1.12029649e-15  5.45349367e-17\n",
      "  -5.37143934e-17 -4.43605171e-16 -6.22387925e-16 -6.55724996e-16\n",
      "  -7.87456766e-16  1.00000000e+00 -6.42385875e-16  5.78379470e-16\n",
      "  -2.84393288e-16  6.17238214e-17]\n",
      " [-5.79163748e-16  9.82745802e-16 -2.57750554e-16 -6.25685054e-16\n",
      "   7.61116262e-16 -3.74525310e-16 -7.28749246e-16 -7.73086318e-16\n",
      "  -7.52050289e-16  3.85172964e-16  1.00000000e+00 -1.11830377e-16\n",
      "  -3.37573626e-16  4.84955586e-18]\n",
      " [-9.02424851e-16  2.04560979e-15 -5.64218857e-17 -4.89038906e-17\n",
      "  -2.91349127e-16 -9.54255716e-17 -5.82239480e-16 -7.73099124e-16\n",
      "  -7.07297618e-16  3.16863921e-16  6.61915434e-16  1.00000000e+00\n",
      "  -1.87195853e-16 -2.66453023e-16]\n",
      " [-1.67115713e-17 -3.16599466e-15  1.17615315e-15 -1.67434186e-15\n",
      "   3.56717541e-15 -5.31920201e-16  5.61121349e-16  4.99446945e-16\n",
      "   8.62323298e-16  2.22675665e-16 -8.30251069e-16 -1.49309069e-16\n",
      "   1.00000000e+00  4.53868726e-16]\n",
      " [ 9.60915351e-16 -1.79803179e-15  5.04022135e-16 -7.11563721e-16\n",
      "   1.10100610e-15 -1.92030356e-16  2.21038527e-16  4.55984824e-16\n",
      "   2.77189997e-16 -3.73787599e-16 -1.27516278e-17 -1.63125275e-17\n",
      "   2.77746654e-16  1.00000000e+00]]\n",
      "Coefficients: \n",
      " [[ 3.13338333e+00 -7.98430107e-01 -5.67215461e-01  2.28387068e-01\n",
      "  -3.27124704e+00  2.46184482e-01  5.45652665e-02  4.34476292e-01\n",
      "   4.79587026e-01  7.37003909e-01 -2.97833687e+00  2.43579519e+00\n",
      "  -5.29946262e-03 -1.21513423e+00]\n",
      " [ 1.00000000e+00 -6.67162631e-16  5.93814828e-17 -5.62576693e-17\n",
      "   2.24420841e-16  8.04244639e-17  1.81107828e-16 -5.72802408e-17\n",
      "   2.55749144e-16 -5.72823506e-17 -1.44860510e-16 -5.87578373e-17\n",
      "  -2.09802286e-16  3.15125082e-16]\n",
      " [ 1.60280614e-15  1.00000000e+00 -5.50050367e-16  2.01955866e-16\n",
      "  -1.54373139e-16  5.15354324e-16  1.77188757e-16  5.83177992e-16\n",
      "   2.85415523e-16  5.02170390e-17 -1.71182085e-16  1.12597070e-16\n",
      "  -1.95589358e-16  1.60520468e-16]\n",
      " [ 7.56133533e-16 -1.73336405e-15  1.00000000e+00 -1.42385825e-16\n",
      "   1.39053890e-15 -5.81693698e-16  4.45914346e-16  5.69716410e-16\n",
      "   4.74295913e-16 -4.51203344e-16  5.73864928e-17 -6.29808447e-18\n",
      "   3.40417786e-18  2.64835237e-16]\n",
      " [ 2.50137114e-16 -1.59766091e-16 -9.47866905e-17  1.00000000e+00\n",
      "   9.07425037e-16  1.42567350e-16  1.95355069e-16  4.82656029e-16\n",
      "   2.56618854e-16  1.78913004e-16 -2.55916710e-16 -1.66687475e-16\n",
      "   6.37550655e-17 -3.38598641e-16]\n",
      " [-6.36111883e-16  1.97930900e-15 -9.67431094e-16  2.19824491e-16\n",
      "   1.00000000e+00  8.60604658e-17  3.74879724e-16  3.28880874e-16\n",
      "   4.51150074e-16 -1.84499814e-16 -2.20365419e-17 -1.34021008e-16\n",
      "   2.60157237e-16 -3.18079347e-16]\n",
      " [ 6.49696485e-16 -1.22874930e-15  7.88847814e-16  3.60363853e-16\n",
      "  -4.71829359e-16  1.00000000e+00  3.23835586e-16  2.97091162e-16\n",
      "   3.05779958e-16  2.21086771e-17 -3.74031225e-17 -9.54246070e-18\n",
      "   2.85161727e-16  2.76287770e-17]\n",
      " [ 7.61970752e-16 -3.53960251e-16  1.11464561e-15 -4.11100280e-16\n",
      "   3.22783966e-16 -5.40001191e-16  1.00000000e+00 -2.78575507e-16\n",
      "  -5.11344996e-16  3.46944580e-16  2.14145821e-16 -1.10918713e-16\n",
      "   3.73642560e-17  3.58890828e-16]\n",
      " [-8.60350638e-16  2.35185389e-16  1.00602921e-15 -6.37234989e-16\n",
      "   5.68294158e-16  2.47419966e-16 -3.56705933e-17  1.00000000e+00\n",
      "  -1.90933896e-16 -1.11300617e-16 -1.25471314e-16  1.32745207e-16\n",
      "  -4.02928669e-17 -1.27222489e-16]\n",
      " [-6.84901617e-16  2.18475145e-15 -1.51296779e-15  8.00015807e-16\n",
      "   2.53503633e-16 -6.26517593e-16  2.32170469e-16  8.08450326e-18\n",
      "   1.00000000e+00 -1.83817052e-16  1.05769393e-16 -2.22467157e-16\n",
      "   5.17105669e-17  1.06727310e-16]\n",
      " [-3.01857217e-16  1.56612058e-15 -1.12029649e-15  5.45349367e-17\n",
      "  -5.37143934e-17 -4.43605171e-16 -6.22387925e-16 -6.55724996e-16\n",
      "  -7.87456766e-16  1.00000000e+00 -6.42385875e-16  5.78379470e-16\n",
      "  -2.84393288e-16  6.17238214e-17]\n",
      " [-5.79163748e-16  9.82745802e-16 -2.57750554e-16 -6.25685054e-16\n",
      "   7.61116262e-16 -3.74525310e-16 -7.28749246e-16 -7.73086318e-16\n",
      "  -7.52050289e-16  3.85172964e-16  1.00000000e+00 -1.11830377e-16\n",
      "  -3.37573626e-16  4.84955586e-18]\n",
      " [-9.02424851e-16  2.04560979e-15 -5.64218857e-17 -4.89038906e-17\n",
      "  -2.91349127e-16 -9.54255716e-17 -5.82239480e-16 -7.73099124e-16\n",
      "  -7.07297618e-16  3.16863921e-16  6.61915434e-16  1.00000000e+00\n",
      "  -1.87195853e-16 -2.66453023e-16]\n",
      " [-1.67115713e-17 -3.16599466e-15  1.17615315e-15 -1.67434186e-15\n",
      "   3.56717541e-15 -5.31920201e-16  5.61121349e-16  4.99446945e-16\n",
      "   8.62323298e-16  2.22675665e-16 -8.30251069e-16 -1.49309069e-16\n",
      "   1.00000000e+00  4.53868726e-16]\n",
      " [ 9.60915351e-16 -1.79803179e-15  5.04022135e-16 -7.11563721e-16\n",
      "   1.10100610e-15 -1.92030356e-16  2.21038527e-16  4.55984824e-16\n",
      "   2.77189997e-16 -3.73787599e-16 -1.27516278e-17 -1.63125275e-17\n",
      "   2.77746654e-16  1.00000000e+00]]\n",
      "Coefficients: \n",
      " [[-1.28049542e+00  5.55507645e-01  3.18498165e-01 -1.65592407e-01\n",
      "   1.51684492e+00 -5.01273953e-02  1.64748070e-01 -8.56804726e-01\n",
      "  -2.15713819e-01 -5.06610412e-01  1.54936242e+00 -1.48467508e+00\n",
      "  -8.89348401e-02  8.36695181e-01]\n",
      " [ 1.00000000e+00 -6.67162631e-16  5.93814828e-17 -5.62576693e-17\n",
      "   2.24420841e-16  8.04244639e-17  1.81107828e-16 -5.72802408e-17\n",
      "   2.55749144e-16 -5.72823506e-17 -1.44860510e-16 -5.87578373e-17\n",
      "  -2.09802286e-16  3.15125082e-16]\n",
      " [ 1.60280614e-15  1.00000000e+00 -5.50050367e-16  2.01955866e-16\n",
      "  -1.54373139e-16  5.15354324e-16  1.77188757e-16  5.83177992e-16\n",
      "   2.85415523e-16  5.02170390e-17 -1.71182085e-16  1.12597070e-16\n",
      "  -1.95589358e-16  1.60520468e-16]\n",
      " [ 7.56133533e-16 -1.73336405e-15  1.00000000e+00 -1.42385825e-16\n",
      "   1.39053890e-15 -5.81693698e-16  4.45914346e-16  5.69716410e-16\n",
      "   4.74295913e-16 -4.51203344e-16  5.73864928e-17 -6.29808447e-18\n",
      "   3.40417786e-18  2.64835237e-16]\n",
      " [ 2.50137114e-16 -1.59766091e-16 -9.47866905e-17  1.00000000e+00\n",
      "   9.07425037e-16  1.42567350e-16  1.95355069e-16  4.82656029e-16\n",
      "   2.56618854e-16  1.78913004e-16 -2.55916710e-16 -1.66687475e-16\n",
      "   6.37550655e-17 -3.38598641e-16]\n",
      " [-6.36111883e-16  1.97930900e-15 -9.67431094e-16  2.19824491e-16\n",
      "   1.00000000e+00  8.60604658e-17  3.74879724e-16  3.28880874e-16\n",
      "   4.51150074e-16 -1.84499814e-16 -2.20365419e-17 -1.34021008e-16\n",
      "   2.60157237e-16 -3.18079347e-16]\n",
      " [ 6.49696485e-16 -1.22874930e-15  7.88847814e-16  3.60363853e-16\n",
      "  -4.71829359e-16  1.00000000e+00  3.23835586e-16  2.97091162e-16\n",
      "   3.05779958e-16  2.21086771e-17 -3.74031225e-17 -9.54246070e-18\n",
      "   2.85161727e-16  2.76287770e-17]\n",
      " [ 7.61970752e-16 -3.53960251e-16  1.11464561e-15 -4.11100280e-16\n",
      "   3.22783966e-16 -5.40001191e-16  1.00000000e+00 -2.78575507e-16\n",
      "  -5.11344996e-16  3.46944580e-16  2.14145821e-16 -1.10918713e-16\n",
      "   3.73642560e-17  3.58890828e-16]\n",
      " [-8.60350638e-16  2.35185389e-16  1.00602921e-15 -6.37234989e-16\n",
      "   5.68294158e-16  2.47419966e-16 -3.56705933e-17  1.00000000e+00\n",
      "  -1.90933896e-16 -1.11300617e-16 -1.25471314e-16  1.32745207e-16\n",
      "  -4.02928669e-17 -1.27222489e-16]\n",
      " [-6.84901617e-16  2.18475145e-15 -1.51296779e-15  8.00015807e-16\n",
      "   2.53503633e-16 -6.26517593e-16  2.32170469e-16  8.08450326e-18\n",
      "   1.00000000e+00 -1.83817052e-16  1.05769393e-16 -2.22467157e-16\n",
      "   5.17105669e-17  1.06727310e-16]\n",
      " [-3.01857217e-16  1.56612058e-15 -1.12029649e-15  5.45349367e-17\n",
      "  -5.37143934e-17 -4.43605171e-16 -6.22387925e-16 -6.55724996e-16\n",
      "  -7.87456766e-16  1.00000000e+00 -6.42385875e-16  5.78379470e-16\n",
      "  -2.84393288e-16  6.17238214e-17]\n",
      " [-5.79163748e-16  9.82745802e-16 -2.57750554e-16 -6.25685054e-16\n",
      "   7.61116262e-16 -3.74525310e-16 -7.28749246e-16 -7.73086318e-16\n",
      "  -7.52050289e-16  3.85172964e-16  1.00000000e+00 -1.11830377e-16\n",
      "  -3.37573626e-16  4.84955586e-18]\n",
      " [-9.02424851e-16  2.04560979e-15 -5.64218857e-17 -4.89038906e-17\n",
      "  -2.91349127e-16 -9.54255716e-17 -5.82239480e-16 -7.73099124e-16\n",
      "  -7.07297618e-16  3.16863921e-16  6.61915434e-16  1.00000000e+00\n",
      "  -1.87195853e-16 -2.66453023e-16]\n",
      " [-1.67115713e-17 -3.16599466e-15  1.17615315e-15 -1.67434186e-15\n",
      "   3.56717541e-15 -5.31920201e-16  5.61121349e-16  4.99446945e-16\n",
      "   8.62323298e-16  2.22675665e-16 -8.30251069e-16 -1.49309069e-16\n",
      "   1.00000000e+00  4.53868726e-16]\n",
      " [ 9.60915351e-16 -1.79803179e-15  5.04022135e-16 -7.11563721e-16\n",
      "   1.10100610e-15 -1.92030356e-16  2.21038527e-16  4.55984824e-16\n",
      "   2.77189997e-16 -3.73787599e-16 -1.27516278e-17 -1.63125275e-17\n",
      "   2.77746654e-16  1.00000000e+00]]\n",
      "Coefficients: \n",
      " [[ 2.15685551e+00 -7.32674011e-01 -2.46083692e-01  8.92018049e-01\n",
      "  -1.64724715e+00 -9.34693579e-02 -2.30221420e-01  3.55125548e-01\n",
      "   2.59844251e-01 -2.59038076e-01 -3.11963273e-01  9.04281007e-01\n",
      "   1.33358172e-01 -7.16540131e-01]\n",
      " [ 1.00000000e+00 -6.67162631e-16  5.93814828e-17 -5.62576693e-17\n",
      "   2.24420841e-16  8.04244639e-17  1.81107828e-16 -5.72802408e-17\n",
      "   2.55749144e-16 -5.72823506e-17 -1.44860510e-16 -5.87578373e-17\n",
      "  -2.09802286e-16  3.15125082e-16]\n",
      " [ 1.60280614e-15  1.00000000e+00 -5.50050367e-16  2.01955866e-16\n",
      "  -1.54373139e-16  5.15354324e-16  1.77188757e-16  5.83177992e-16\n",
      "   2.85415523e-16  5.02170390e-17 -1.71182085e-16  1.12597070e-16\n",
      "  -1.95589358e-16  1.60520468e-16]\n",
      " [ 7.56133533e-16 -1.73336405e-15  1.00000000e+00 -1.42385825e-16\n",
      "   1.39053890e-15 -5.81693698e-16  4.45914346e-16  5.69716410e-16\n",
      "   4.74295913e-16 -4.51203344e-16  5.73864928e-17 -6.29808447e-18\n",
      "   3.40417786e-18  2.64835237e-16]\n",
      " [ 2.50137114e-16 -1.59766091e-16 -9.47866905e-17  1.00000000e+00\n",
      "   9.07425037e-16  1.42567350e-16  1.95355069e-16  4.82656029e-16\n",
      "   2.56618854e-16  1.78913004e-16 -2.55916710e-16 -1.66687475e-16\n",
      "   6.37550655e-17 -3.38598641e-16]\n",
      " [-6.36111883e-16  1.97930900e-15 -9.67431094e-16  2.19824491e-16\n",
      "   1.00000000e+00  8.60604658e-17  3.74879724e-16  3.28880874e-16\n",
      "   4.51150074e-16 -1.84499814e-16 -2.20365419e-17 -1.34021008e-16\n",
      "   2.60157237e-16 -3.18079347e-16]\n",
      " [ 6.49696485e-16 -1.22874930e-15  7.88847814e-16  3.60363853e-16\n",
      "  -4.71829359e-16  1.00000000e+00  3.23835586e-16  2.97091162e-16\n",
      "   3.05779958e-16  2.21086771e-17 -3.74031225e-17 -9.54246070e-18\n",
      "   2.85161727e-16  2.76287770e-17]\n",
      " [ 7.61970752e-16 -3.53960251e-16  1.11464561e-15 -4.11100280e-16\n",
      "   3.22783966e-16 -5.40001191e-16  1.00000000e+00 -2.78575507e-16\n",
      "  -5.11344996e-16  3.46944580e-16  2.14145821e-16 -1.10918713e-16\n",
      "   3.73642560e-17  3.58890828e-16]\n",
      " [-8.60350638e-16  2.35185389e-16  1.00602921e-15 -6.37234989e-16\n",
      "   5.68294158e-16  2.47419966e-16 -3.56705933e-17  1.00000000e+00\n",
      "  -1.90933896e-16 -1.11300617e-16 -1.25471314e-16  1.32745207e-16\n",
      "  -4.02928669e-17 -1.27222489e-16]\n",
      " [-6.84901617e-16  2.18475145e-15 -1.51296779e-15  8.00015807e-16\n",
      "   2.53503633e-16 -6.26517593e-16  2.32170469e-16  8.08450326e-18\n",
      "   1.00000000e+00 -1.83817052e-16  1.05769393e-16 -2.22467157e-16\n",
      "   5.17105669e-17  1.06727310e-16]\n",
      " [-3.01857217e-16  1.56612058e-15 -1.12029649e-15  5.45349367e-17\n",
      "  -5.37143934e-17 -4.43605171e-16 -6.22387925e-16 -6.55724996e-16\n",
      "  -7.87456766e-16  1.00000000e+00 -6.42385875e-16  5.78379470e-16\n",
      "  -2.84393288e-16  6.17238214e-17]\n",
      " [-5.79163748e-16  9.82745802e-16 -2.57750554e-16 -6.25685054e-16\n",
      "   7.61116262e-16 -3.74525310e-16 -7.28749246e-16 -7.73086318e-16\n",
      "  -7.52050289e-16  3.85172964e-16  1.00000000e+00 -1.11830377e-16\n",
      "  -3.37573626e-16  4.84955586e-18]\n",
      " [-9.02424851e-16  2.04560979e-15 -5.64218857e-17 -4.89038906e-17\n",
      "  -2.91349127e-16 -9.54255716e-17 -5.82239480e-16 -7.73099124e-16\n",
      "  -7.07297618e-16  3.16863921e-16  6.61915434e-16  1.00000000e+00\n",
      "  -1.87195853e-16 -2.66453023e-16]\n",
      " [-1.67115713e-17 -3.16599466e-15  1.17615315e-15 -1.67434186e-15\n",
      "   3.56717541e-15 -5.31920201e-16  5.61121349e-16  4.99446945e-16\n",
      "   8.62323298e-16  2.22675665e-16 -8.30251069e-16 -1.49309069e-16\n",
      "   1.00000000e+00  4.53868726e-16]\n",
      " [ 9.60915351e-16 -1.79803179e-15  5.04022135e-16 -7.11563721e-16\n",
      "   1.10100610e-15 -1.92030356e-16  2.21038527e-16  4.55984824e-16\n",
      "   2.77189997e-16 -3.73787599e-16 -1.27516278e-17 -1.63125275e-17\n",
      "   2.77746654e-16  1.00000000e+00]]\n",
      "Coefficients: \n",
      " [[ 7.10753086e-01 -5.47340311e-01  5.20279306e-02  2.25765175e-02\n",
      "  -5.54243753e-01 -1.67447501e-01  5.66459835e-03  8.61393025e-02\n",
      "   1.43643471e-01 -1.77289485e-01 -1.20525308e-02  3.14033858e-01\n",
      "  -2.61729165e-03 -9.27482843e-02]\n",
      " [ 1.00000000e+00 -6.67162631e-16  5.93814828e-17 -5.62576693e-17\n",
      "   2.24420841e-16  8.04244639e-17  1.81107828e-16 -5.72802408e-17\n",
      "   2.55749144e-16 -5.72823506e-17 -1.44860510e-16 -5.87578373e-17\n",
      "  -2.09802286e-16  3.15125082e-16]\n",
      " [ 1.60280614e-15  1.00000000e+00 -5.50050367e-16  2.01955866e-16\n",
      "  -1.54373139e-16  5.15354324e-16  1.77188757e-16  5.83177992e-16\n",
      "   2.85415523e-16  5.02170390e-17 -1.71182085e-16  1.12597070e-16\n",
      "  -1.95589358e-16  1.60520468e-16]\n",
      " [ 7.56133533e-16 -1.73336405e-15  1.00000000e+00 -1.42385825e-16\n",
      "   1.39053890e-15 -5.81693698e-16  4.45914346e-16  5.69716410e-16\n",
      "   4.74295913e-16 -4.51203344e-16  5.73864928e-17 -6.29808447e-18\n",
      "   3.40417786e-18  2.64835237e-16]\n",
      " [ 2.50137114e-16 -1.59766091e-16 -9.47866905e-17  1.00000000e+00\n",
      "   9.07425037e-16  1.42567350e-16  1.95355069e-16  4.82656029e-16\n",
      "   2.56618854e-16  1.78913004e-16 -2.55916710e-16 -1.66687475e-16\n",
      "   6.37550655e-17 -3.38598641e-16]\n",
      " [-6.36111883e-16  1.97930900e-15 -9.67431094e-16  2.19824491e-16\n",
      "   1.00000000e+00  8.60604658e-17  3.74879724e-16  3.28880874e-16\n",
      "   4.51150074e-16 -1.84499814e-16 -2.20365419e-17 -1.34021008e-16\n",
      "   2.60157237e-16 -3.18079347e-16]\n",
      " [ 6.49696485e-16 -1.22874930e-15  7.88847814e-16  3.60363853e-16\n",
      "  -4.71829359e-16  1.00000000e+00  3.23835586e-16  2.97091162e-16\n",
      "   3.05779958e-16  2.21086771e-17 -3.74031225e-17 -9.54246070e-18\n",
      "   2.85161727e-16  2.76287770e-17]\n",
      " [ 7.61970752e-16 -3.53960251e-16  1.11464561e-15 -4.11100280e-16\n",
      "   3.22783966e-16 -5.40001191e-16  1.00000000e+00 -2.78575507e-16\n",
      "  -5.11344996e-16  3.46944580e-16  2.14145821e-16 -1.10918713e-16\n",
      "   3.73642560e-17  3.58890828e-16]\n",
      " [-8.60350638e-16  2.35185389e-16  1.00602921e-15 -6.37234989e-16\n",
      "   5.68294158e-16  2.47419966e-16 -3.56705933e-17  1.00000000e+00\n",
      "  -1.90933896e-16 -1.11300617e-16 -1.25471314e-16  1.32745207e-16\n",
      "  -4.02928669e-17 -1.27222489e-16]\n",
      " [-6.84901617e-16  2.18475145e-15 -1.51296779e-15  8.00015807e-16\n",
      "   2.53503633e-16 -6.26517593e-16  2.32170469e-16  8.08450326e-18\n",
      "   1.00000000e+00 -1.83817052e-16  1.05769393e-16 -2.22467157e-16\n",
      "   5.17105669e-17  1.06727310e-16]\n",
      " [-3.01857217e-16  1.56612058e-15 -1.12029649e-15  5.45349367e-17\n",
      "  -5.37143934e-17 -4.43605171e-16 -6.22387925e-16 -6.55724996e-16\n",
      "  -7.87456766e-16  1.00000000e+00 -6.42385875e-16  5.78379470e-16\n",
      "  -2.84393288e-16  6.17238214e-17]\n",
      " [-5.79163748e-16  9.82745802e-16 -2.57750554e-16 -6.25685054e-16\n",
      "   7.61116262e-16 -3.74525310e-16 -7.28749246e-16 -7.73086318e-16\n",
      "  -7.52050289e-16  3.85172964e-16  1.00000000e+00 -1.11830377e-16\n",
      "  -3.37573626e-16  4.84955586e-18]\n",
      " [-9.02424851e-16  2.04560979e-15 -5.64218857e-17 -4.89038906e-17\n",
      "  -2.91349127e-16 -9.54255716e-17 -5.82239480e-16 -7.73099124e-16\n",
      "  -7.07297618e-16  3.16863921e-16  6.61915434e-16  1.00000000e+00\n",
      "  -1.87195853e-16 -2.66453023e-16]\n",
      " [-1.67115713e-17 -3.16599466e-15  1.17615315e-15 -1.67434186e-15\n",
      "   3.56717541e-15 -5.31920201e-16  5.61121349e-16  4.99446945e-16\n",
      "   8.62323298e-16  2.22675665e-16 -8.30251069e-16 -1.49309069e-16\n",
      "   1.00000000e+00  4.53868726e-16]\n",
      " [ 9.60915351e-16 -1.79803179e-15  5.04022135e-16 -7.11563721e-16\n",
      "   1.10100610e-15 -1.92030356e-16  2.21038527e-16  4.55984824e-16\n",
      "   2.77189997e-16 -3.73787599e-16 -1.27516278e-17 -1.63125275e-17\n",
      "   2.77746654e-16  1.00000000e+00]]\n"
     ]
    }
   ],
   "source": [
    "for i in range(5):\n",
    "    print('Coefficients: \\n', linearmodel[i].coef_)"
   ]
  },
  {
   "cell_type": "code",
   "execution_count": 237,
   "metadata": {},
   "outputs": [
    {
     "name": "stdout",
     "output_type": "stream",
     "text": [
      "Mean squared error: 0.00\n",
      "Mean squared error: 13.66\n",
      "Mean squared error: 10.37\n",
      "Mean squared error: 12.68\n",
      "Mean squared error: 1.21\n"
     ]
    }
   ],
   "source": [
    "for i in range(5):\n",
    "    print(\"Mean squared error: %.2f\"\n",
    "      % mean_squared_error(data[i][3], prediction[i]))"
   ]
  },
  {
   "cell_type": "code",
   "execution_count": 238,
   "metadata": {},
   "outputs": [
    {
     "name": "stdout",
     "output_type": "stream",
     "text": [
      "Variance score: 0.96\n",
      "Variance score: 0.97\n",
      "Variance score: 0.98\n",
      "Variance score: 0.95\n",
      "Variance score: 0.96\n"
     ]
    }
   ],
   "source": [
    "for i in range(5):\n",
    "    print('Variance score: %.2f' % r2_score(data[i][3], prediction[i]))"
   ]
  }
 ],
 "metadata": {
  "kernelspec": {
   "display_name": "Python 3",
   "language": "python",
   "name": "python3"
  },
  "language_info": {
   "codemirror_mode": {
    "name": "ipython",
    "version": 3
   },
   "file_extension": ".py",
   "mimetype": "text/x-python",
   "name": "python",
   "nbconvert_exporter": "python",
   "pygments_lexer": "ipython3",
   "version": "3.6.5"
  }
 },
 "nbformat": 4,
 "nbformat_minor": 2
}
